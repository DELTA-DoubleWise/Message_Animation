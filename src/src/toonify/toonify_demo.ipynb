{
 "cells": [
  {
   "cell_type": "code",
   "execution_count": 1,
   "metadata": {},
   "outputs": [],
   "source": [
    "import requests as req\n",
    "from PIL import Image\n",
    "from io import BytesIO\n",
    "r = req.post(\n",
    "    \"https://api.deepai.org/api/toonify\",\n",
    "    files={\n",
    "        'image': open('source/source_img.jpeg', 'rb'),\n",
    "    },\n",
    "    headers={'api-key': 'e14dec90-a4c4-4f15-9ab8-84dd863103b9'}\n",
    ")\n",
    "img_src = r.json()['output_url']\n",
    "response = req.get(img_src)\n",
    "image = Image.open(BytesIO(response.content))\n",
    "image.show()"
   ]
  },
  {
   "cell_type": "code",
   "execution_count": null,
   "metadata": {},
   "outputs": [],
   "source": []
  }
 ],
 "metadata": {
  "kernelspec": {
   "display_name": "Python 3 (ipykernel)",
   "language": "python",
   "name": "python3"
  },
  "language_info": {
   "codemirror_mode": {
    "name": "ipython",
    "version": 3
   },
   "file_extension": ".py",
   "mimetype": "text/x-python",
   "name": "python",
   "nbconvert_exporter": "python",
   "pygments_lexer": "ipython3",
   "version": "3.9.7"
  }
 },
 "nbformat": 4,
 "nbformat_minor": 2
}
