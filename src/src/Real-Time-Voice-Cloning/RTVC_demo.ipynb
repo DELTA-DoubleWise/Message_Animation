{
 "cells": [
  {
   "cell_type": "code",
   "execution_count": 1,
   "id": "22611892",
   "metadata": {},
   "outputs": [
    {
     "name": "stdout",
     "output_type": "stream",
     "text": [
      "Arguments:\n",
      "    datasets_root:    None\n",
      "    enc_models_dir:   encoder/saved_models\n",
      "    syn_models_dir:   synthesizer/saved_models\n",
      "    voc_models_dir:   vocoder/saved_models\n",
      "    cpu:              False\n",
      "    seed:             None\n",
      "    no_mp3_support:   False\n",
      "    filename:         source_voice.mp3\n",
      "    gen_text:         gen_text.txt\n",
      "\n",
      "datasets_root\n",
      "enc_models_dir\n",
      "syn_models_dir\n",
      "voc_models_dir\n",
      "seed\n",
      "no_mp3_support\n",
      "filename\n",
      "gen_text\n",
      "Warning: you did not pass a root directory for datasets as argument.\n",
      "The recognized datasets are:\n",
      "\tLibriSpeech/dev-clean\n",
      "\tLibriSpeech/dev-other\n",
      "\tLibriSpeech/test-clean\n",
      "\tLibriSpeech/test-other\n",
      "\tLibriSpeech/train-clean-100\n",
      "\tLibriSpeech/train-clean-360\n",
      "\tLibriSpeech/train-other-500\n",
      "\tLibriTTS/dev-clean\n",
      "\tLibriTTS/dev-other\n",
      "\tLibriTTS/test-clean\n",
      "\tLibriTTS/test-other\n",
      "\tLibriTTS/train-clean-100\n",
      "\tLibriTTS/train-clean-360\n",
      "\tLibriTTS/train-other-500\n",
      "\tLJSpeech-1.1\n",
      "\tVoxCeleb1/wav\n",
      "\tVoxCeleb1/test_wav\n",
      "\tVoxCeleb2/dev/aac\n",
      "\tVoxCeleb2/test/aac\n",
      "\tVCTK-Corpus/wav48\n",
      "Feel free to add your own. You can still use the toolbox by recording samples yourself.\n",
      "current\n",
      "Loaded encoder \"pretrained.pt\" trained to step 1564501\n",
      "Synthesizer using device: cpu\n",
      "Trainable Parameters: 30.870M\n",
      "Loaded synthesizer \"pretrained.pt\" trained to step 295000\n",
      "+----------+---+\n",
      "| Tacotron | r |\n",
      "+----------+---+\n",
      "|   295k   | 2 |\n",
      "+----------+---+\n",
      " \n",
      "\n",
      "| Generating 1/1\n",
      "\n",
      "\n",
      "Done.\n",
      "\n",
      "Building Wave-RNN\n",
      "Trainable Parameters: 4.481M\n",
      "Loading model weights at vocoder/saved_models/pretrained/pretrained.pt\n",
      "exit successfully\n"
     ]
    }
   ],
   "source": [
    "!python3 ./demo_toolbox.py -f source_voice.mp3 -t gen_text.txt"
   ]
  },
  {
   "cell_type": "code",
   "execution_count": null,
   "id": "77b5e36a",
   "metadata": {},
   "outputs": [],
   "source": []
  }
 ],
 "metadata": {
  "kernelspec": {
   "display_name": "Python 3 (ipykernel)",
   "language": "python",
   "name": "python3"
  },
  "language_info": {
   "codemirror_mode": {
    "name": "ipython",
    "version": 3
   },
   "file_extension": ".py",
   "mimetype": "text/x-python",
   "name": "python",
   "nbconvert_exporter": "python",
   "pygments_lexer": "ipython3",
   "version": "3.9.7"
  }
 },
 "nbformat": 4,
 "nbformat_minor": 5
}
